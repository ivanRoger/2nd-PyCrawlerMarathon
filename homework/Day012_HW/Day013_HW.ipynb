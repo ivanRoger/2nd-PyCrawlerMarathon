{
 "cells": [
  {
   "cell_type": "markdown",
   "source": [
    "# PTT 網路爬蟲實作練習\n",
    "\n",
    "\n",
    "* 能夠利用 Request + BeatifulSour 撰寫爬蟲，並存放到合適的資料結構\n"
   ],
   "metadata": {}
  },
  {
   "cell_type": "markdown",
   "source": [
    "## 作業目標\n",
    "\n",
    "根據範例 ，完成以下問題：\n",
    "\n",
    "* ① 印出最新文章的「作者」「標題」「時間」\n",
    "* ② 印出第一頁所有文章的「作者」「標題」「時間」\n"
   ],
   "metadata": {}
  },
  {
   "cell_type": "markdown",
   "source": [
    "### ① 印出最新文章的「作者」「標題」「時間」"
   ],
   "metadata": {}
  },
  {
   "cell_type": "code",
   "execution_count": 1,
   "source": [
    "'''\r\n",
    "Your Code\r\n",
    "'''\r\n",
    "import requests\r\n",
    "from bs4 import BeautifulSoup\r\n",
    "\r\n",
    "url = 'https://www.ptt.cc/bbs/NBA/index.html'\r\n",
    "r = requests.get(url)\r\n",
    "\r\n",
    "soup = BeautifulSoup(r.text, \"html5lib\")"
   ],
   "outputs": [],
   "metadata": {}
  },
  {
   "cell_type": "code",
   "execution_count": 2,
   "source": [
    "# 因為原始的資料難以判斷「新/舊」，因此我們必須進入內頁抓取詳細的時間，最終存成 List of Dict 的形式再自行排序。\r\n",
    "\r\n",
    "posts = []\r\n",
    "\r\n",
    "for d in soup.find_all(class_=\"title\"):\r\n",
    "    try:\r\n",
    "        post = {}\r\n",
    "        post['標題'] = d.text.replace('\\t', '').replace('\\n', '')\r\n",
    "        \r\n",
    "        r = BeautifulSoup(requests.get('https://www.ptt.cc'+d.find('a')['href']).text, \"html5lib\")\r\n",
    "        post['作者'] = r.find(class_='article-meta-value').text\r\n",
    "        post['時間'] = r.find_all(class_='article-meta-value')[-1].text\r\n",
    "        \r\n",
    "        posts.append(post)\r\n",
    "    except:\r\n",
    "        continue\r\n",
    "\r\n",
    "\r\n",
    "posts = sorted(posts, key= lambda x: x['時間'])\r\n",
    "posts[-1]"
   ],
   "outputs": [
    {
     "output_type": "execute_result",
     "data": {
      "text/plain": [
       "{'標題': '[情報] Playoffs Schedule 20–21',\n",
       " '作者': 'laptic (靜夜聖林彼岸花)',\n",
       " '時間': 'Wed May 19 00:35:47 2021'}"
      ]
     },
     "metadata": {},
     "execution_count": 2
    }
   ],
   "metadata": {}
  },
  {
   "cell_type": "markdown",
   "source": [
    "### ② 印出第一頁所有文章的「作者」「標題」「時間」"
   ],
   "metadata": {}
  },
  {
   "cell_type": "code",
   "execution_count": 18,
   "source": [
    "'''\r\n",
    "Your Code\r\n",
    "'''\r\n",
    "import requests\r\n",
    "from bs4 import BeautifulSoup\r\n",
    "\r\n",
    "url = 'https://www.ptt.cc/bbs/Stock/index.html'\r\n",
    "r = requests.get(url)\r\n",
    "\r\n",
    "soup = BeautifulSoup(r.text, \"html5lib\")"
   ],
   "outputs": [],
   "metadata": {}
  },
  {
   "cell_type": "code",
   "execution_count": 21,
   "source": [
    "# 方法二：進入內頁抓\r\n",
    "for d in soup.find_all(class_=\"title\"):\r\n",
    "    try:\r\n",
    "        print('標題： ', d.text.replace('\\t', '').replace('\\n', ''))\r\n",
    "        r = BeautifulSoup(requests.get('https://www.ptt.cc'+d.find('a')['href']).text, \"html5lib\")\r\n",
    "        print('作者： ' + r.find(class_='article-meta-value').text)\r\n",
    "        print('時間： ' + r.find_all(class_='article-meta-value')[-1].text)\r\n",
    "    except:\r\n",
    "        continue"
   ],
   "outputs": [
    {
     "output_type": "stream",
     "name": "stdout",
     "text": [
      "標題：  [請益] 歷史分時走勢圖查詢\n",
      "作者： blackpaulwu (黑鮑吳)\n",
      "時間： Sat Jul 17 13:48:21 2021\n",
      "標題：  [新聞] 決戰美國追趕台積電 三星加碼170億美元\n",
      "作者： Coffeewater (淡淡的咖啡)\n",
      "時間： Sat Jul 17 13:50:51 2021\n",
      "標題：  Re: [新聞] 陽明完成現增案，7/19線上法說，法人估Q3\n",
      "作者： pili012140 (mike)\n",
      "時間： Sat Jul 17 13:53:50 2021\n",
      "標題：  [心得] 這一波長榮2603的小小心得\n",
      "作者： windofmarch (羅空)\n",
      "時間： Sat Jul 17 13:54:45 2021\n",
      "標題：  Re: [情報] 陽明、長榮、台驊本週集保戶股權分散表\n",
      "作者： laipyn (s89605789)\n",
      "時間： Sat Jul 17 13:57:03 2021\n",
      "標題：  Re: [標的]  巧虎誤認小喵 群創多\n",
      "作者： DrTech (竹科管理處網軍研發人員)\n",
      "時間： Sat Jul 17 14:00:29 2021\n",
      "標題：  [創作] 寓言故事-上帝救救我\n",
      "作者： paulnorton4 (paul)\n",
      "時間： Sat Jul 17 14:06:42 2021\n",
      "標題：  [新聞] 新增12例COVID-19確定病例，分別為8例本\n",
      "作者： lulu1305174 (ㄌㄨˇ ㄌㄨˊ)\n",
      "時間： Sat Jul 17 14:16:03 2021\n",
      "標題：  [新聞] 他死守航運股撈千萬 3利多曝後面還有肉\n",
      "作者： golover ()\n",
      "時間： Sat Jul 17 14:36:27 2021\n",
      "標題：  Re: [請益] 一起來改革處置制度\n",
      "作者： mazyota (組合車)\n",
      "時間： Sat Jul 17 14:46:11 2021\n",
      "標題：  [新聞] 運價飆高根本「不正常」！台驊顏益財：\n",
      "作者： sim34 (曾經滄海難為水)\n",
      "時間： Sat Jul 17 15:03:31 2021\n",
      "標題：  [公告] Stock 股票板板規 V3.2   (2021/04/02修)\n",
      "標題：  [閒聊] 五月板務討論文 (周末可回文)\n",
      "作者： yoche2000 (九龍塘麵包粉)\n",
      "時間： Sat May  1 18:48:30 2021\n",
      "標題：  [閒聊] 2021/07/16 盤後閒聊\n",
      "作者： WolFDragoN (低調)\n",
      "時間： Fri Jul 16 14:00:00 2021\n"
     ]
    }
   ],
   "metadata": {}
  },
  {
   "cell_type": "markdown",
   "source": [
    "### ③ 試著爬爬看其他版的文章"
   ],
   "metadata": {}
  },
  {
   "cell_type": "code",
   "execution_count": 16,
   "source": [
    "'''\r\n",
    "Your Code\r\n",
    "'''\r\n",
    "\r\n",
    "# 改成 Lifeismoney 版\r\n",
    "\r\n",
    "import requests\r\n",
    "from bs4 import BeautifulSoup\r\n",
    "\r\n",
    "url = 'https://www.ptt.cc/bbs/Lifeismoney/index.html'\r\n",
    "r = requests.get(url)\r\n",
    "\r\n",
    "soup = BeautifulSoup(r.text, \"html5lib\")\r\n"
   ],
   "outputs": [],
   "metadata": {}
  },
  {
   "cell_type": "code",
   "execution_count": 17,
   "source": [
    "# 進入內頁抓\r\n",
    "for d in soup.find_all(class_=\"title\"):\r\n",
    "    try:\r\n",
    "        print('標題： ', d.text.replace('\\t', '').replace('\\n', ''))\r\n",
    "        r = BeautifulSoup(requests.get('https://www.ptt.cc'+d.find('a')['href']).text, \"html5lib\")\r\n",
    "        print('作者： ' + r.find(class_='article-meta-value').text)\r\n",
    "        print('時間： ' + r.find_all(class_='article-meta-value')[-1].text)\r\n",
    "    except:\r\n",
    "        continue"
   ],
   "outputs": [
    {
     "output_type": "stream",
     "name": "stdout",
     "text": [
      "標題：  Re: [情報] 7/17~23 台北捐血250cc送全聯禮券300元\n",
      "作者： massbalance (質量平衡)\n",
      "時間： Sat Jul 17 10:21:08 2021\n",
      "標題：  [情報] 薇姿M89安瓶免費試用包\n",
      "作者： stin1128 (陳)\n",
      "時間： Sat Jul 17 10:50:51 2021\n",
      "標題：  [情報] 台新PAY首綁 7-11不限額消費 贈OP-50點\n",
      "作者： misu2718 (不知道)\n",
      "時間： Sat Jul 17 12:32:26 2021\n",
      "標題：  [情報] 樂天日本大王尿布再折200\n",
      "作者： arnoccchen (karenn)\n",
      "時間： Sat Jul 17 12:36:37 2021\n",
      "標題：  [情報] 家樂福週週 享九折\n",
      "作者： lawrenceka (素食主義者~* ^^)\n",
      "時間： Sat Jul 17 12:52:17 2021\n",
      "標題：  Re: [情報] 7/17~23 台北捐血250cc送全聯禮券300元\n",
      "作者： coffeePS (奶油色的咖啡)\n",
      "時間： Sat Jul 17 13:47:40 2021\n",
      "標題：  [公告] 板務宣導&違規檢舉區\n",
      "作者： medama ( )\n",
      "時間： Sat Nov  7 12:00:09 2020\n",
      "標題：  [公告] 省錢板板規 2021年最新版\n",
      "作者： medama ( )\n",
      "時間： Mon Jan  4 01:01:48 2021\n",
      "標題：  [情報] 7/17-31 各地捐血(贈品)資訊一覽-7/17更新\n",
      "作者： luxx0171 (聚是偶然、散是必然)\n",
      "時間： Thu Jul 15 10:05:30 2021\n",
      "標題：  [公告] 未滿1元集點抽獎資訊集中文\n",
      "作者： medama ( )\n",
      "時間： Thu Jul 15 23:54:10 2021\n"
     ]
    }
   ],
   "metadata": {}
  },
  {
   "cell_type": "code",
   "execution_count": 9,
   "source": [
    "posts = []\r\n",
    "\r\n",
    "for d in soup.find_all(class_=\"title\"):\r\n",
    "    try:\r\n",
    "        post = {}\r\n",
    "        post['標題'] = d.text.replace('\\t', '').replace('\\n', '')\r\n",
    "        \r\n",
    "        r = BeautifulSoup(requests.get('https://www.ptt.cc'+d.find('a')['href']).text, \"html5lib\")\r\n",
    "        post['作者'] = r.find(class_='article-meta-value').text\r\n",
    "        post['時間'] = r.find_all(class_='article-meta-value')[-1].text\r\n",
    "        \r\n",
    "        posts.append(post)\r\n",
    "    except:\r\n",
    "        continue\r\n",
    "\r\n",
    "\r\n",
    "posts = sorted(posts, key= lambda x: x['時間'])\r\n",
    "posts[-1]"
   ],
   "outputs": [
    {
     "output_type": "execute_result",
     "data": {
      "text/plain": [
       "{'標題': '[公告] 未滿1元集點抽獎資訊集中文',\n",
       " '作者': 'medama ( )',\n",
       " '時間': 'Thu Jul 15 23:54:10 2021'}"
      ]
     },
     "metadata": {},
     "execution_count": 9
    }
   ],
   "metadata": {}
  }
 ],
 "metadata": {
  "kernelspec": {
   "display_name": "Python 3",
   "language": "python",
   "name": "python3"
  },
  "language_info": {
   "codemirror_mode": {
    "name": "ipython",
    "version": 3
   },
   "file_extension": ".py",
   "mimetype": "text/x-python",
   "name": "python",
   "nbconvert_exporter": "python",
   "pygments_lexer": "ipython3",
   "version": "3.6.5"
  }
 },
 "nbformat": 4,
 "nbformat_minor": 2
}