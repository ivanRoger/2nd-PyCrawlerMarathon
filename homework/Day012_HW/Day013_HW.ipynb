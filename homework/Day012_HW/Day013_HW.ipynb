{
 "cells": [
  {
   "cell_type": "markdown",
   "source": [
    "# PTT 網路爬蟲實作練習\n",
    "\n",
    "\n",
    "* 能夠利用 Request + BeatifulSour 撰寫爬蟲，並存放到合適的資料結構\n"
   ],
   "metadata": {}
  },
  {
   "cell_type": "markdown",
   "source": [
    "## 作業目標\n",
    "\n",
    "根據範例 ，完成以下問題：\n",
    "\n",
    "* ① 印出最新文章的「作者」「標題」「時間」\n",
    "* ② 印出第一頁所有文章的「作者」「標題」「時間」\n"
   ],
   "metadata": {}
  },
  {
   "cell_type": "markdown",
   "source": [
    "### ① 印出最新文章的「作者」「標題」「時間」"
   ],
   "metadata": {}
  },
  {
   "cell_type": "code",
   "execution_count": null,
   "source": [
    "'''\r\n",
    "Your Code\r\n",
    "'''\r\n",
    "import requests\r\n",
    "from bs4 import BeautifulSoup\r\n",
    "\r\n",
    "url = 'https://www.ptt.cc/bbs/NBA/index.html'\r\n",
    "r = requests.get(url)\r\n",
    "\r\n",
    "soup = BeautifulSoup(r.text, \"html5lib\")\r\n",
    "\r\n",
    "for d in soup.find_all(class_=\"title\"):\r\n",
    "    print(d.text.replace('\\t', '').replace('\\n', ''))\r\n",
    "    try:\r\n",
    "        r = BeautifulSoup(requests.get('https://www.ptt.cc'+d.find('a')['href']).text, \"html5lib\")\r\n",
    "        print('作者: ' + r.find(class_='article-meta-value').text)\r\n",
    "    except:\r\n",
    "        continue"
   ],
   "outputs": [],
   "metadata": {}
  },
  {
   "cell_type": "markdown",
   "source": [
    "### ② 印出第一頁所有文章的「作者」「標題」「時間」"
   ],
   "metadata": {}
  },
  {
   "cell_type": "code",
   "execution_count": null,
   "source": [
    "'''\r\n",
    "Your Code\r\n",
    "'''"
   ],
   "outputs": [],
   "metadata": {}
  },
  {
   "cell_type": "markdown",
   "source": [
    "### ③ 試著爬爬看其他版的文章"
   ],
   "metadata": {}
  },
  {
   "cell_type": "code",
   "execution_count": null,
   "source": [
    "'''\r\n",
    "Your Code\r\n",
    "'''"
   ],
   "outputs": [],
   "metadata": {}
  }
 ],
 "metadata": {
  "kernelspec": {
   "display_name": "Python 3",
   "language": "python",
   "name": "python3"
  },
  "language_info": {
   "codemirror_mode": {
    "name": "ipython",
    "version": 3
   },
   "file_extension": ".py",
   "mimetype": "text/x-python",
   "name": "python",
   "nbconvert_exporter": "python",
   "pygments_lexer": "ipython3",
   "version": "3.6.5"
  }
 },
 "nbformat": 4,
 "nbformat_minor": 2
}