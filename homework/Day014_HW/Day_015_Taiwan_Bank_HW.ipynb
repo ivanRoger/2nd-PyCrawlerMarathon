{
 "cells": [
  {
   "cell_type": "markdown",
   "source": [
    "# 台灣銀行牌告匯率爬蟲練習\n",
    "## 範例1： 練習爬取台幣對其他貨幣匯率資料"
   ],
   "metadata": {}
  },
  {
   "cell_type": "code",
   "execution_count": 1,
   "source": [
    "import requests\r\n",
    "from bs4 import BeautifulSoup\r\n",
    "from datetime import datetime\r\n",
    "import pandas as pd\r\n",
    "import matplotlib.pyplot as plt"
   ],
   "outputs": [],
   "metadata": {}
  },
  {
   "cell_type": "markdown",
   "source": [
    "### 進入台灣銀行牌告匯率網頁：https://rate.bot.com.tw/xrt?Lang=zh-TW ，擷取當日台幣對美金的匯率資訊"
   ],
   "metadata": {}
  },
  {
   "cell_type": "code",
   "execution_count": 6,
   "source": [
    "# 進入台灣銀行牌告匯率網頁，查看當日匯率資料\r\n",
    "url = \"https://rate.bot.com.tw/xrt?Lang=zh-TW\"\r\n",
    "resp = requests.get(url)\r\n",
    "resp.encoding = 'utf-8'\r\n",
    "# print(resp.text)  # 如有需要，列印出網頁原始碼\r\n",
    "\r\n",
    "html = BeautifulSoup(resp.text, \"lxml\")\r\n",
    "rate_table = html.find(name='table', attrs={'title':'牌告匯率'}).find(name='tbody').find_all(name='tr')\r\n",
    "\r\n",
    "# 查詢美金(也就是匯率表的第一個元素)對台幣的匯率\r\n",
    "currency = rate_table[0].find(name='div', attrs={'class':'visible-phone print_hide'})\r\n",
    "print(currency.get_text().replace(\" \", \"\"))  # 去掉空白\r\n",
    "\r\n",
    "buy_rate = rate_table[0].find(name='td', attrs={'data-table':'本行現金買入'})\r\n",
    "sell_rate = rate_table[0].find(name='td', attrs={'data-table':'本行現金賣出'})\r\n",
    "print(\"即時現金買入: %s, 即時現金賣出: %s\" % (buy_rate.get_text(), sell_rate.get_text()))"
   ],
   "outputs": [
    {
     "output_type": "stream",
     "name": "stdout",
     "text": [
      "\n",
      "美金(USD)\n",
      "\n",
      "即時現金買入: 27.645, 即時現金賣出: 28.315\n"
     ]
    }
   ],
   "metadata": {}
  },
  {
   "cell_type": "markdown",
   "source": [
    "### 作業part 1：請參考上面的範例，試著爬取所有貨幣對台幣的匯率"
   ],
   "metadata": {}
  },
  {
   "cell_type": "code",
   "execution_count": 7,
   "source": [
    "'''\r\n",
    "\r\n",
    "  Your code here\r\n",
    "  \r\n",
    "'''\r\n",
    "# 擷取匯率表格，並把匯率資料擷取出來\r\n",
    "for p in rate_table:\r\n",
    "    # 查詢現金匯率\r\n",
    "    #\r\n",
    "    currency = p.find(name='div', attrs={'class':'visible-phone print_hide'})\r\n",
    "    print(currency.get_text().replace(\" \", \"\"))  # 貨幣種類\r\n",
    "    \r\n",
    "    buy_rate = p.find(name='td', attrs={'data-table':'本行現金買入'})\r\n",
    "    sell_rate = p.find(name='td', attrs={'data-table':'本行現金賣出'})\r\n",
    "    print(\"即時現金買入: %s, 即時現金賣出: %s\" % (buy_rate.get_text(), sell_rate.get_text()))"
   ],
   "outputs": [
    {
     "output_type": "stream",
     "name": "stdout",
     "text": [
      "\n",
      "美金(USD)\n",
      "\n",
      "即時現金買入: 27.645, 即時現金賣出: 28.315\n",
      "\n",
      "港幣(HKD)\n",
      "\n",
      "即時現金買入: 3.453, 即時現金賣出: 3.657\n",
      "\n",
      "英鎊(GBP)\n",
      "\n",
      "即時現金買入: 37.06, 即時現金賣出: 39.18\n",
      "\n",
      "澳幣(AUD)\n",
      "\n",
      "即時現金買入: 20.17, 即時現金賣出: 20.95\n",
      "\n",
      "加拿大幣(CAD)\n",
      "\n",
      "即時現金買入: 21.5, 即時現金賣出: 22.41\n",
      "\n",
      "新加坡幣(SGD)\n",
      "\n",
      "即時現金買入: 19.94, 即時現金賣出: 20.85\n",
      "\n",
      "瑞士法郎(CHF)\n",
      "\n",
      "即時現金買入: 29.72, 即時現金賣出: 30.92\n",
      "\n",
      "日圓(JPY)\n",
      "\n",
      "即時現金買入: 0.247, 即時現金賣出: 0.2598\n",
      "\n",
      "南非幣(ZAR)\n",
      "\n",
      "即時現金買入: -, 即時現金賣出: -\n",
      "\n",
      "瑞典幣(SEK)\n",
      "\n",
      "即時現金買入: 2.84, 即時現金賣出: 3.36\n",
      "\n",
      "紐元(NZD)\n",
      "\n",
      "即時現金買入: 18.9, 即時現金賣出: 19.75\n",
      "\n",
      "泰幣(THB)\n",
      "\n",
      "即時現金買入: 0.7271, 即時現金賣出: 0.9171\n",
      "\n",
      "菲國比索(PHP)\n",
      "\n",
      "即時現金買入: 0.4772, 即時現金賣出: 0.6102\n",
      "\n",
      "印尼幣(IDR)\n",
      "\n",
      "即時現金買入: 0.00158, 即時現金賣出: 0.00228\n",
      "\n",
      "歐元(EUR)\n",
      "\n",
      "即時現金買入: 32.26, 即時現金賣出: 33.6\n",
      "\n",
      "韓元(KRW)\n",
      "\n",
      "即時現金買入: 0.0227, 即時現金賣出: 0.0266\n",
      "\n",
      "越南盾(VND)\n",
      "\n",
      "即時現金買入: 0.00097, 即時現金賣出: 0.00138\n",
      "\n",
      "馬來幣(MYR)\n",
      "\n",
      "即時現金買入: 5.627, 即時現金賣出: 7.107\n",
      "\n",
      "人民幣(CNY)\n",
      "\n",
      "即時現金買入: 4.229, 即時現金賣出: 4.391\n"
     ]
    }
   ],
   "metadata": {}
  },
  {
   "cell_type": "markdown",
   "source": [
    "## 範例2：爬取一個月的美金對台幣歷史匯率資料，並畫出趨勢圖"
   ],
   "metadata": {}
  },
  {
   "cell_type": "code",
   "execution_count": 17,
   "source": [
    "# 先到牌告匯率首頁，爬取所有貨幣的種類\r\n",
    "url = \"https://rate.bot.com.tw/xrt?Lang=zh-TW\"\r\n",
    "resp = requests.get(url)\r\n",
    "resp.encoding = 'utf-8'\r\n",
    "html = BeautifulSoup(resp.text, \"lxml\")\r\n",
    "rate_table = html.find(name='table', attrs={'title':'牌告匯率'}).find(name='tbody').find_all(name='tr')\r\n",
    "\r\n",
    "# 擷取匯率表格，把美金(也就是匯率表的第一個元素)擷取出來，查詢其歷史匯率\r\n",
    "currency = rate_table[0].find(name='div', attrs={'class':'visible-phone print_hide'})\r\n",
    "print(currency.get_text().replace(\" \", \"\"))  # 貨幣種類\r\n",
    "\r\n",
    "# 針對美金，找到其「歷史匯率」的首頁 \r\n",
    "history_link = rate_table[0].find(name='td', attrs={'data-table':'歷史匯率'})\r\n",
    "history_rate_link = \"https://rate.bot.com.tw\" + history_link.a[\"href\"]  # 該貨幣的歷史資料首頁\r\n",
    "\r\n",
    "#\r\n",
    "# 到貨幣歷史匯率網頁，選則該貨幣的「歷史區間」，送出查詢後，觀察其網址變化情形，再試著抓取其歷史匯率資料\r\n",
    "#\r\n",
    "# 用「quote/年-月」去取代網址內容，就可以連到該貨幣的歷史資料\r\n",
    "quote_history_url = history_rate_link.replace(\"history\", \"quote/2021-07\")\r\n",
    "resp = requests.get(quote_history_url)\r\n",
    "resp.encoding = 'utf-8'\r\n",
    "history = BeautifulSoup(resp.text, \"lxml\")\r\n",
    "history_table = history.find(name='table', attrs={'title':'歷史本行營業時間牌告匯率'}).find(name='tbody').find_all(name='tr')\r\n",
    "\r\n",
    "#\r\n",
    "# 擷取到歷史匯率資料後，把資料彙整起來並畫出趨勢圖\r\n",
    "#\r\n",
    "date_history = list()\r\n",
    "history_buy = list()\r\n",
    "history_sell = list()\r\n",
    "\r\n",
    "for history_rate in history_table:\r\n",
    "    # 擷取日期資料\r\n",
    "    date_string = history_rate.a.get_text()\r\n",
    "    date = datetime.strptime(date_string, '%Y/%M/%d').strftime('%Y/%M/%d')  # 轉換日期格式\r\n",
    "    date_history.append(date)  # 日期歷史資料\r\n",
    "\r\n",
    "    history_ex_rate = history_rate.find_all(name='td', attrs={'class':'rate-content-cash text-right print_table-cell'})\r\n",
    "    history_buy.append(float(history_ex_rate[0].get_text()))  # 歷史買入匯率\r\n",
    "    history_sell.append(float(history_ex_rate[1].get_text()))  # 歷史賣出匯率\r\n",
    "\r\n",
    "# 將匯率資料建成dataframe形式\r\n",
    "HistoryExchangeRate = pd.DataFrame({'date': date_history,\r\n",
    "                                    'buy_rate':history_buy,\r\n",
    "                                    'sell_rate':history_sell})\r\n",
    "\r\n",
    "HistoryExchangeRate = HistoryExchangeRate.set_index('date')  # 指定日期欄位為datafram的index\r\n",
    "HistoryExchangeRate = HistoryExchangeRate.sort_index(ascending=True)\r\n",
    "HistoryExchangeRate\r\n"
   ],
   "outputs": [
    {
     "output_type": "stream",
     "name": "stdout",
     "text": [
      "\n",
      "美金(USD)\n",
      "\n"
     ]
    },
    {
     "output_type": "execute_result",
     "data": {
      "text/plain": [
       "            buy_rate  sell_rate\n",
       "date                           \n",
       "2021/07/01    27.490     28.160\n",
       "2021/07/02    27.580     28.250\n",
       "2021/07/05    27.500     28.170\n",
       "2021/07/06    27.510     28.180\n",
       "2021/07/07    27.585     28.255\n",
       "2021/07/08    27.610     28.280\n",
       "2021/07/09    27.655     28.325\n",
       "2021/07/12    27.600     28.270\n",
       "2021/07/13    27.590     28.260\n",
       "2021/07/14    27.600     28.270\n",
       "2021/07/15    27.490     28.160\n",
       "2021/07/16    27.600     28.270\n",
       "2021/07/19    27.635     28.305\n",
       "2021/07/20    27.640     28.310"
      ],
      "text/html": [
       "<div>\n",
       "<style scoped>\n",
       "    .dataframe tbody tr th:only-of-type {\n",
       "        vertical-align: middle;\n",
       "    }\n",
       "\n",
       "    .dataframe tbody tr th {\n",
       "        vertical-align: top;\n",
       "    }\n",
       "\n",
       "    .dataframe thead th {\n",
       "        text-align: right;\n",
       "    }\n",
       "</style>\n",
       "<table border=\"1\" class=\"dataframe\">\n",
       "  <thead>\n",
       "    <tr style=\"text-align: right;\">\n",
       "      <th></th>\n",
       "      <th>buy_rate</th>\n",
       "      <th>sell_rate</th>\n",
       "    </tr>\n",
       "    <tr>\n",
       "      <th>date</th>\n",
       "      <th></th>\n",
       "      <th></th>\n",
       "    </tr>\n",
       "  </thead>\n",
       "  <tbody>\n",
       "    <tr>\n",
       "      <th>2021/07/01</th>\n",
       "      <td>27.490</td>\n",
       "      <td>28.160</td>\n",
       "    </tr>\n",
       "    <tr>\n",
       "      <th>2021/07/02</th>\n",
       "      <td>27.580</td>\n",
       "      <td>28.250</td>\n",
       "    </tr>\n",
       "    <tr>\n",
       "      <th>2021/07/05</th>\n",
       "      <td>27.500</td>\n",
       "      <td>28.170</td>\n",
       "    </tr>\n",
       "    <tr>\n",
       "      <th>2021/07/06</th>\n",
       "      <td>27.510</td>\n",
       "      <td>28.180</td>\n",
       "    </tr>\n",
       "    <tr>\n",
       "      <th>2021/07/07</th>\n",
       "      <td>27.585</td>\n",
       "      <td>28.255</td>\n",
       "    </tr>\n",
       "    <tr>\n",
       "      <th>2021/07/08</th>\n",
       "      <td>27.610</td>\n",
       "      <td>28.280</td>\n",
       "    </tr>\n",
       "    <tr>\n",
       "      <th>2021/07/09</th>\n",
       "      <td>27.655</td>\n",
       "      <td>28.325</td>\n",
       "    </tr>\n",
       "    <tr>\n",
       "      <th>2021/07/12</th>\n",
       "      <td>27.600</td>\n",
       "      <td>28.270</td>\n",
       "    </tr>\n",
       "    <tr>\n",
       "      <th>2021/07/13</th>\n",
       "      <td>27.590</td>\n",
       "      <td>28.260</td>\n",
       "    </tr>\n",
       "    <tr>\n",
       "      <th>2021/07/14</th>\n",
       "      <td>27.600</td>\n",
       "      <td>28.270</td>\n",
       "    </tr>\n",
       "    <tr>\n",
       "      <th>2021/07/15</th>\n",
       "      <td>27.490</td>\n",
       "      <td>28.160</td>\n",
       "    </tr>\n",
       "    <tr>\n",
       "      <th>2021/07/16</th>\n",
       "      <td>27.600</td>\n",
       "      <td>28.270</td>\n",
       "    </tr>\n",
       "    <tr>\n",
       "      <th>2021/07/19</th>\n",
       "      <td>27.635</td>\n",
       "      <td>28.305</td>\n",
       "    </tr>\n",
       "    <tr>\n",
       "      <th>2021/07/20</th>\n",
       "      <td>27.640</td>\n",
       "      <td>28.310</td>\n",
       "    </tr>\n",
       "  </tbody>\n",
       "</table>\n",
       "</div>"
      ]
     },
     "metadata": {},
     "execution_count": 17
    }
   ],
   "metadata": {}
  },
  {
   "cell_type": "code",
   "execution_count": 18,
   "source": [
    "# 畫出歷史匯率軌跡圖\r\n",
    "\r\n",
    "plt.figure(figsize=(10, 8))\r\n",
    "HistoryExchangeRate[['buy_rate','sell_rate']].plot()  # x=['date'], y=[['buy_rate','sell_rate']] \r\n",
    "plt.legend(loc=\"upper left\")\r\n",
    "plt.show()"
   ],
   "outputs": [
    {
     "output_type": "display_data",
     "data": {
      "text/plain": [
       "<Figure size 720x576 with 0 Axes>"
      ]
     },
     "metadata": {}
    },
    {
     "output_type": "display_data",
     "data": {
      "text/plain": [
       "<Figure size 432x288 with 1 Axes>"
      ],
      "image/png": "[encoded data removed]"
     },
     "metadata": {
      "needs_background": "light"
     }
    }
   ],
   "metadata": {}
  },
  {
   "cell_type": "markdown",
   "source": [
    "### 作業part 2：爬取每種貨幣對台幣的一個月歷史匯率資料，並畫出趨勢圖"
   ],
   "metadata": {}
  },
  {
   "cell_type": "code",
   "execution_count": 19,
   "source": [
    "'''\r\n",
    "\r\n",
    "  Your code here\r\n",
    "\r\n",
    "'''\r\n",
    "# 先到牌告匯率首頁，爬取所有貨幣的種類\r\n",
    "url = \"https://rate.bot.com.tw/xrt?Lang=zh-TW\"\r\n",
    "resp = requests.get(url)\r\n",
    "resp.encoding = 'utf-8'\r\n",
    "html = BeautifulSoup(resp.text, \"lxml\")\r\n",
    "rate_table = html.find(name='table', attrs={'title':'牌告匯率'}).find(name='tbody').find_all(name='tr')\r\n",
    "\r\n",
    "# 擷取匯率表格，把每種貨幣種類擷取出來，再針對貨幣種類，查詢其歷史匯率\r\n",
    "for p in rate_table:\r\n",
    "    currency = p.find(name='div', attrs={'class':'visible-phone print_hide'})\r\n",
    "    print(currency.get_text().replace(\" \", \"\"))  # 貨幣種類\r\n",
    "    \r\n",
    "    # 接下來針對每種貨幣，找到其「歷史匯率」的首頁 \r\n",
    "    history_link = p.find(name='td', attrs={'data-table':'歷史匯率'})\r\n",
    "    history_rate_link = \"https://rate.bot.com.tw\" + history_link.a[\"href\"]  # 該貨幣的歷史資料首頁\r\n",
    "    \r\n",
    "    #\r\n",
    "    # 回到貨幣歷史匯率網頁，點選該貨幣的「歷史區間」，觀察其網址變化情形，再試著抓取其歷史匯率資料\r\n",
    "    #\r\n",
    "    # 用「quote/年-月」去取代網址內容，就可以連到該貨幣的歷史資料\r\n",
    "    quote_history_url = history_rate_link.replace(\"history\", \"quote/2021-07\")\r\n",
    "    resp = requests.get(quote_history_url)\r\n",
    "    resp.encoding = 'utf-8'\r\n",
    "    history = BeautifulSoup(resp.text, \"lxml\")\r\n",
    "    history_table = history.find(name='table', attrs={'title':'歷史本行營業時間牌告匯率'}).find(name='tbody').find_all(name='tr')\r\n",
    "    \r\n",
    "    #\r\n",
    "    # 擷取到歷史匯率資料後，把資料彙整起來並畫出趨勢圖\r\n",
    "    #\r\n",
    "    date_history = list()\r\n",
    "    history_buy = list()\r\n",
    "    history_sell = list()\r\n",
    "    \r\n",
    "    for history_rate in history_table:\r\n",
    "        # 擷取日期資料\r\n",
    "        date_string = history_rate.a.get_text()\r\n",
    "        date = datetime.strptime(date_string, '%Y/%M/%d').strftime('%Y/%M/%d')  # 轉換日期格式\r\n",
    "        date_history.append(date)  # 日期歷史資料\r\n",
    "        \r\n",
    "        history_ex_rate = history_rate.find_all(name='td', attrs={'class':'rate-content-cash text-right print_table-cell'})\r\n",
    "        history_buy.append(float(history_ex_rate[0].get_text()))  # 歷史買入匯率\r\n",
    "        history_sell.append(float(history_ex_rate[1].get_text()))  # 歷史賣出匯率\r\n",
    "    \r\n",
    "    # 將匯率資料建成dataframe形式\r\n",
    "    HistoryExchangeRate = pd.DataFrame({'date': date_history,\r\n",
    "                                        'buy_rate':history_buy,\r\n",
    "                                        'sell_rate':history_sell})\r\n",
    "    \r\n",
    "    HistoryExchangeRate = HistoryExchangeRate.set_index('date')  # 指定日期欄位為datafram的index\r\n",
    "    HistoryExchangeRate = HistoryExchangeRate.sort_index(ascending=True)\r\n",
    "    \r\n",
    "    # 畫出歷史匯率軌跡圖\r\n",
    "    plt.figure(figsize=(10, 8))\r\n",
    "    HistoryExchangeRate[['buy_rate','sell_rate']].plot()  # x=['date'], y=[['buy_rate','sell_rate']] \r\n",
    "    plt.legend(loc=\"upper left\")\r\n",
    "    plt.show()"
   ],
   "outputs": [
    {
     "output_type": "stream",
     "name": "stdout",
     "text": [
      "\n",
      "美金(USD)\n",
      "\n"
     ]
    },
    {
     "output_type": "error",
     "ename": "AttributeError",
     "evalue": "'NoneType' object has no attribute 'get_text'",
     "traceback": [
      "\u001b[1;31m---------------------------------------------------------------------------\u001b[0m",
      "\u001b[1;31mAttributeError\u001b[0m                            Traceback (most recent call last)",
      "\u001b[1;32m<ipython-input-19-96acab8c11c5>\u001b[0m in \u001b[0;36m<module>\u001b[1;34m\u001b[0m\n\u001b[0;32m     39\u001b[0m     \u001b[1;32mfor\u001b[0m \u001b[0mhistory_rate\u001b[0m \u001b[1;32min\u001b[0m \u001b[0mhistory_table\u001b[0m\u001b[1;33m:\u001b[0m\u001b[1;33m\u001b[0m\u001b[1;33m\u001b[0m\u001b[0m\n\u001b[0;32m     40\u001b[0m         \u001b[1;31m# 擷取日期資料\u001b[0m\u001b[1;33m\u001b[0m\u001b[1;33m\u001b[0m\u001b[1;33m\u001b[0m\u001b[0m\n\u001b[1;32m---> 41\u001b[1;33m         \u001b[0mdate_string\u001b[0m \u001b[1;33m=\u001b[0m \u001b[0mhistory_rate\u001b[0m\u001b[1;33m.\u001b[0m\u001b[0ma\u001b[0m\u001b[1;33m.\u001b[0m\u001b[0mget_text\u001b[0m\u001b[1;33m(\u001b[0m\u001b[1;33m)\u001b[0m\u001b[1;33m\u001b[0m\u001b[1;33m\u001b[0m\u001b[0m\n\u001b[0m\u001b[0;32m     42\u001b[0m         \u001b[0mdate\u001b[0m \u001b[1;33m=\u001b[0m \u001b[0mdatetime\u001b[0m\u001b[1;33m.\u001b[0m\u001b[0mstrptime\u001b[0m\u001b[1;33m(\u001b[0m\u001b[0mdate_string\u001b[0m\u001b[1;33m,\u001b[0m \u001b[1;34m'%Y/%M/%d'\u001b[0m\u001b[1;33m)\u001b[0m\u001b[1;33m.\u001b[0m\u001b[0mstrftime\u001b[0m\u001b[1;33m(\u001b[0m\u001b[1;34m'%Y/%M/%d'\u001b[0m\u001b[1;33m)\u001b[0m  \u001b[1;31m# 轉換日期格式\u001b[0m\u001b[1;33m\u001b[0m\u001b[1;33m\u001b[0m\u001b[0m\n\u001b[0;32m     43\u001b[0m         \u001b[0mdate_history\u001b[0m\u001b[1;33m.\u001b[0m\u001b[0mappend\u001b[0m\u001b[1;33m(\u001b[0m\u001b[0mdate\u001b[0m\u001b[1;33m)\u001b[0m  \u001b[1;31m# 日期歷史資料\u001b[0m\u001b[1;33m\u001b[0m\u001b[1;33m\u001b[0m\u001b[0m\n",
      "\u001b[1;31mAttributeError\u001b[0m: 'NoneType' object has no attribute 'get_text'"
     ]
    }
   ],
   "metadata": {}
  },
  {
   "cell_type": "code",
   "execution_count": null,
   "source": [],
   "outputs": [],
   "metadata": {}
  }
 ],
 "metadata": {
  "kernelspec": {
   "name": "python3",
   "display_name": "Python 3.6.13 64-bit ('base': conda)"
  },
  "language_info": {
   "codemirror_mode": {
    "name": "ipython",
    "version": 3
   },
   "file_extension": ".py",
   "mimetype": "text/x-python",
   "name": "python",
   "nbconvert_exporter": "python",
   "pygments_lexer": "ipython3",
   "version": "3.6.13"
  },
  "interpreter": {
   "hash": "5f292722d6d50c2426abae6fd15a85386b49c5393ec98f1c35f79e4e4dd7448b"
  }
 },
 "nbformat": 4,
 "nbformat_minor": 2
}