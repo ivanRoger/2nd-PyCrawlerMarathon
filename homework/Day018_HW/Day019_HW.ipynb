{
 "cells": [
  {
   "cell_type": "markdown",
   "source": [
    "# 動態網頁爬蟲 - 使用 Selenium\n",
    "\n",
    "* 了解 Selenium 用於動態網頁爬蟲的原理\n",
    "* 能夠使用 Selenium 撰寫動態網頁爬蟲"
   ],
   "metadata": {}
  },
  {
   "cell_type": "markdown",
   "source": [
    "## 作業目標\n",
    "\n",
    "* 1. 請試著利用 Selenium 開啟 Google 網頁，不要關掉。\n",
    "* 2. 請利用剛剛開啟的瀏覽器，切換到 這個網址 網頁，然後關掉。（URL: https://www.cupoy.com/clubnews/ai_tw/0000016E62FB84E4000000026375706F795F72656C656173654B5741535354434C5542/0000016F69B5DB8C000000266375706F795F72656C656173654B5741535354434C55424E455753 ）\n"
   ],
   "metadata": {}
  },
  {
   "cell_type": "code",
   "execution_count": 1,
   "source": [
    "from selenium import webdriver\r\n",
    "from selenium.webdriver.support.ui import Select\r\n",
    "from bs4 import BeautifulSoup"
   ],
   "outputs": [],
   "metadata": {}
  },
  {
   "cell_type": "code",
   "execution_count": 4,
   "source": [
    "# 1. 請試著利用 Selenium 開啟 Google 網頁，不要關掉。\r\n",
    "\r\n",
    "'''\r\n",
    "Your Code\r\n",
    "'''\r\n",
    "browser = webdriver.Chrome(executable_path='C:\\\\Users\\\\user\\\\AppData\\\\Local\\\\Programs\\\\Python\\\\Python37-32\\\\chromedriver')\r\n",
    "browser.get(\"https://hahow.in/courses\")"
   ],
   "outputs": [],
   "metadata": {}
  },
  {
   "cell_type": "code",
   "execution_count": 7,
   "source": [
    "# 2. 請利用剛剛開啟的瀏覽器，切換到 這個網址 網頁，取得網頁內容。\r\n",
    "# URL: https://www.cupoy.com/clubnews/ai_tw/0000016E62FB84E4000000026375706F795F72656C656173654B5741535354434C5542/0000016F69B5DB8C000000266375706F795F72656C656173654B5741535354434C55424E455753\r\n",
    "\r\n",
    "'''\r\n",
    "Your Code\r\n",
    "'''\r\n"
   ],
   "outputs": [],
   "metadata": {}
  },
  {
   "cell_type": "code",
   "execution_count": null,
   "source": [
    "# 3. 將瀏覽器關閉\r\n",
    "\r\n",
    "'''\r\n",
    "Your Code\r\n",
    "'''"
   ],
   "outputs": [],
   "metadata": {}
  },
  {
   "cell_type": "code",
   "execution_count": null,
   "source": [
    "# 動態網頁爬蟲 - 使用 Selenium\r\n",
    "\r\n",
    "* 了解 Selenium 用於動態網頁爬蟲的原理\r\n",
    "* 能夠使用 Selenium 撰寫動態網頁爬蟲\r\n",
    "\r\n",
    "## 作業目標\r\n",
    "\r\n",
    "* 1. 請試著利用 Selenium 開啟 Google 網頁，不要關掉。\r\n",
    "* 2. 請利用剛剛開啟的瀏覽器，切換到 這個網址 網頁，然後關掉。（URL: https://www.cupoy.com/clubnews/ai_tw/0000016E62FB84E4000000026375706F795F72656C656173654B5741535354434C5542/0000016F69B5DB8C000000266375706F795F72656C656173654B5741535354434C55424E455753 ）\r\n",
    "\r\n",
    "\r\n",
    "from selenium import webdriver\r\n",
    "from selenium.webdriver.support.ui import Select\r\n",
    "from bs4 import BeautifulSoup\r\n",
    "\r\n",
    "# 1. 請試著利用 Selenium 開啟 Google 網頁，不要關掉。\r\n",
    "browser = webdriver.Chrome(executable_path='chromedriver')\r\n",
    "browser.get(\"https://www.google.com/\")\r\n",
    "\r\n",
    "# 2. 請利用剛剛開啟的瀏覽器，切換到 這個網址 網頁。\r\n",
    "# URL: https://www.cupoy.com/clubnews/ai_tw/0000016E62FB84E4000000026375706F795F72656C656173654B5741535354434C5542/0000016F69B5DB8C000000266375706F795F72656C656173654B5741535354434C55424E455753\r\n",
    "\r\n",
    "browser.get(\"https://www.cupoy.com/clubnews/ai_tw/0000016E62FB84E4000000026375706F795F72656C656173654B5741535354434C5542/0000016F69B5DB8C000000266375706F795F72656C656173654B5741535354434C55424E455753\")\r\n",
    "\r\n",
    "\r\n",
    "# 3. 將瀏覽器關閉\r\n",
    "\r\n",
    "browser.close()"
   ],
   "outputs": [],
   "metadata": {}
  }
 ],
 "metadata": {
  "kernelspec": {
   "name": "python3",
   "display_name": "Python 3.6.13 64-bit ('base': conda)"
  },
  "language_info": {
   "codemirror_mode": {
    "name": "ipython",
    "version": 3
   },
   "file_extension": ".py",
   "mimetype": "text/x-python",
   "name": "python",
   "nbconvert_exporter": "python",
   "pygments_lexer": "ipython3",
   "version": "3.6.13"
  },
  "interpreter": {
   "hash": "5f292722d6d50c2426abae6fd15a85386b49c5393ec98f1c35f79e4e4dd7448b"
  }
 },
 "nbformat": 4,
 "nbformat_minor": 2
}