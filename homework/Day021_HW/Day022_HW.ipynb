{
 "cells": [
  {
   "cell_type": "markdown",
   "source": [
    "# 動態網頁爬蟲 - 使用 Selenium\n",
    "\n",
    "* 了解 Selenium 用於動態網頁爬蟲的原理\n",
    "* 能夠使用 Selenium 撰寫動態網頁爬蟲"
   ],
   "metadata": {}
  },
  {
   "cell_type": "markdown",
   "source": [
    "## 作業目標\n",
    "\n",
    "* 1. 根據範例使用 selenuim 取出 Hahow 網站中所有課程的資料，並用一個適合的資料結構儲存（Hint: 將所有資料存在一個變數當中取出）\n",
    "* 2. 剛剛的做法只能取出第一頁，試著取出所有頁面的資料。\n",
    "\n"
   ],
   "metadata": {}
  },
  {
   "cell_type": "markdown",
   "source": [
    "### 1. 根據範例使用 selenuim 取出 Hahow 網站中所有課程的資料，並用一個適合的資料結構儲存（Hint: 將所有資料存在一個變數當中取出）"
   ],
   "metadata": {}
  },
  {
   "cell_type": "code",
   "execution_count": 2,
   "source": [
    "from selenium import webdriver\r\n",
    "from selenium.webdriver.support.ui import Select\r\n",
    "from bs4 import BeautifulSoup\r\n",
    "\r\n",
    "browser = webdriver.Chrome(executable_path='C:\\\\Users\\\\user\\\\AppData\\\\Local\\\\Programs\\\\Python\\\\Python37-32\\\\chromedriver')\r\n",
    "browser.get(\"https://hahow.in/courses\")"
   ],
   "outputs": [],
   "metadata": {}
  },
  {
   "cell_type": "code",
   "execution_count": 3,
   "source": [
    "# 取得資料（等瀏覽器資料出現後才執行）\r\n",
    "html_source = browser.page_source\r\n",
    "html_source\r\n",
    "\r\n",
    "# 取得資料\r\n",
    "html_source = browser.page_source\r\n",
    "soup = BeautifulSoup(html_source, 'html.parser')"
   ],
   "outputs": [],
   "metadata": {}
  },
  {
   "cell_type": "code",
   "execution_count": 6,
   "source": [
    "courses = []\r\n",
    "    \r\n",
    "'''\r\n",
    "Your Code\r\n",
    "'''\r\n",
    "for d in soup.find_all('h4', class_='title'):\r\n",
    "    courses.append(d.text)\r\n",
    "\r\n",
    "print(courses)"
   ],
   "outputs": [
    {
     "output_type": "stream",
     "name": "stdout",
     "text": [
      "['流轉的光景｜王建傑老師的風景水彩畫', '軟體需求溝通─從外商公司學跨部門協作開發', '搞懂主管小劇場，向上管理職場攻心計', '減法攝影，感官加乘：逐格收藏觀景窗裡的世界', 'UX 設計/研究全攻略: 給新手的職場通識課', '洞察行銷世代｜引領未來行銷的數據洞察思維', '職場英文大補帖｜必勝簡報方程式', '關鍵提案力-抓住客戶的邀約法則', '輕鬆發聲！質感說話！12 堂課讓您說話不疲勞', '陳日昇大師魔術教室，萬人迷魔法就在手中', '黃子瑜鼓教室 | 爵士鼓職人 12 週養成計劃', 'Kim 的法式甜點水彩課 - 彩繪繽紛午茶派對 ', '圖解思維X時事引導：實用日文輕鬆玩！', 'Python 爬蟲入門特訓 ─ 資料抓取與處理應用', '高效閱讀、有效輸出－和閱讀人學習實踐知識的技術', '用簡報操縱會議結論的《五階段提案誘導術》', '柳川や的菠蘿祕密，在家做出 14 款排隊麵包！', 'OFFER GET！資深獵頭的履歷面試全攻略', '遠距工作力：溝通協作到自我管理', '妖怪厝邊、陰陽共居－台灣野史天眼通', '專為前端工程師準備的Node.js後端實戰課程', '零失敗的夢幻糖霜餅乾：收涎餅乾、節日禮物輕鬆做', '提升邏輯思維 - 王介安的 GAS 溝通力', 'Adam 個人理財術：從培養財務認知開始！']\n"
     ]
    }
   ],
   "metadata": {}
  },
  {
   "cell_type": "code",
   "execution_count": 7,
   "source": [
    "browser.close()"
   ],
   "outputs": [],
   "metadata": {}
  },
  {
   "cell_type": "markdown",
   "source": [
    "### 2. 剛剛的做法只能取出第一頁，試著取出所有頁面的資料。"
   ],
   "metadata": {}
  },
  {
   "cell_type": "code",
   "execution_count": 8,
   "source": [
    "from selenium import webdriver\r\n",
    "from selenium.webdriver.support.ui import Select\r\n",
    "from bs4 import BeautifulSoup\r\n",
    "\r\n",
    "browser = webdriver.Chrome(executable_path='C:\\\\Users\\\\user\\\\AppData\\\\Local\\\\Programs\\\\Python\\\\Python37-32\\\\chromedriver')\r\n",
    "browser.get(\"https://hahow.in/courses\")"
   ],
   "outputs": [],
   "metadata": {}
  },
  {
   "cell_type": "code",
   "execution_count": 9,
   "source": [
    "# 取得資料（等瀏覽器資料出現後才執行）\r\n",
    "html_source = browser.page_source\r\n",
    "soup = BeautifulSoup(html_source, 'html.parser')\r\n"
   ],
   "outputs": [],
   "metadata": {}
  },
  {
   "cell_type": "code",
   "execution_count": 12,
   "source": [
    "# 1. 先取出全部有幾頁\r\n",
    "    \r\n",
    "'''\r\n",
    "Your Code\r\n",
    "'''\r\n",
    "p = soup.find_all(class_=\"rc-pagination-item\")[-1].text\r\n",
    "print(p)"
   ],
   "outputs": [
    {
     "output_type": "stream",
     "name": "stdout",
     "text": [
      "28\n"
     ]
    }
   ],
   "metadata": {}
  },
  {
   "cell_type": "code",
   "execution_count": 15,
   "source": [
    "# 2. 每頁都取出資料放入 courses\r\n",
    "\r\n",
    "courses = []    \r\n",
    "\r\n",
    "'''\r\n",
    "Your Code\r\n",
    "'''\r\n",
    "for i in range(1, int(p)+1)[:10]: # 範例只印出前兩頁，可以自己把 [:2] 拿掉\r\n",
    "    \r\n",
    "    browser = webdriver.Chrome(executable_path='C:\\\\Users\\\\user\\\\AppData\\\\Local\\\\Programs\\\\Python\\\\Python37-32\\\\chromedriver' )\r\n",
    "    browser.get(f\"https://hahow.in/courses?page={i}\")\r\n",
    "\r\n",
    "    # 取得資料\r\n",
    "    html_source = browser.page_source\r\n",
    "    soup = BeautifulSoup(html_source, 'html.parser')\r\n",
    "    \r\n",
    "    course = []\r\n",
    "    for d in soup.find_all('h4', class_='title'):\r\n",
    "        courses.append(d.text)\r\n",
    "    \r\n",
    "    browser.close()"
   ],
   "outputs": [],
   "metadata": {}
  },
  {
   "cell_type": "code",
   "execution_count": 16,
   "source": [
    "# 3. done!\r\n",
    "\r\n",
    "print(courses)"
   ],
   "outputs": [
    {
     "output_type": "stream",
     "name": "stdout",
     "text": [
      "['流轉的光景｜王建傑老師的風景水彩畫', '軟體需求溝通─從外商公司學跨部門協作開發', '搞懂主管小劇場，向上管理職場攻心計', '減法攝影，感官加乘：逐格收藏觀景窗裡的世界', 'UX 設計/研究全攻略: 給新手的職場通識課', '洞察行銷世代｜引領未來行銷的數據洞察思維', '職場英文大補帖｜必勝簡報方程式', '關鍵提案力-抓住客戶的邀約法則', '輕鬆發聲！質感說話！12 堂課讓您說話不疲勞', '陳日昇大師魔術教室，萬人迷魔法就在手中', '黃子瑜鼓教室 | 爵士鼓職人 12 週養成計劃', 'Kim 的法式甜點水彩課 - 彩繪繽紛午茶派對 ', '圖解思維X時事引導：實用日文輕鬆玩！', 'Python 爬蟲入門特訓 ─ 資料抓取與處理應用', '高效閱讀、有效輸出－和閱讀人學習實踐知識的技術', '用簡報操縱會議結論的《五階段提案誘導術》', '柳川や的菠蘿祕密，在家做出 14 款排隊麵包！', 'OFFER GET！資深獵頭的履歷面試全攻略', '遠距工作力：溝通協作到自我管理', '妖怪厝邊、陰陽共居－台灣野史天眼通', '專為前端工程師準備的Node.js後端實戰課程', '零失敗的夢幻糖霜餅乾：收涎餅乾、節日禮物輕鬆做', '提升邏輯思維 - 王介安的 GAS 溝通力', 'Adam 個人理財術：從培養財務認知開始！', '實用Photoshop - 打開視覺設計之門', '針氈＋濕氈｜羊毛氈風格手作的完整指南', '與海共生的必修課：設計屬於你的愛海生活', '吃早餐學食物攝影：一週晨間美感養成', '複合媒材的創意激盪：一起輕鬆玩水彩', '跟著版塊做網站：用動態特效點滿視覺創意', 'Amber 生活日文課， 28 單元開啟自學之旅', '隨筆Q萌大頭貼，輕鬆畫出每一天', '藍諾導演攝影實戰課：12 步拍出故事感', '治療師不藏私：孕期到 2 歲感覺統合教養包', 'SV 科學歌唱｜用運動科學高效學唱歌', '需求讀心術：活用質性訪談與分析洞察人心', '職場英文大補帖｜銀行行員必備的英文口說', '跟著吳鳳接軌國際：有說有笑的英文聊天錦囊', '黛你做行銷-全方面蹲好行銷馬步', '凱蒂瑜珈與穎盈中醫師：養生療癒的經絡瑜珈', '從懷孕到產後：筋肉媽媽的孕婦運動指南', 'SEO 白話文：不懂程式也能學會的 SEO 秘密', '網紅經營術，自媒體攻略大揭密', '場景透視學，我選 Procreate！', '入門數據分析，掌握 Hive SQL 取數能力', '吳寶春冠軍麵包在家做，獨家配方大公開', '遙控 X 攝影：休伯特的戶外空拍運鏡指南', '零失敗！海頓媽媽的常溫甜點禮盒', '前進新貨幣戰國時代！央行數位貨幣 CBDC', '超現實影像創作 - PS 合成後製第二課', 'Notion 實戰課程：打造專屬數位工作術', '基礎戳繡 Punch needle．食繡植繡｜戳出療癒手感創作', '小資必學財報課：輕鬆看懂台美股', '不寫程式的數據分析： Excel 商業分析實戰', '讓巴毛律師智財你！搞懂生活中的智慧財產權', '癌細胞 Bang！癌友有嘻哈的 20 堂抗癌課', '小冬瓜單程旅行社：規劃人生美好告別之旅', '性忘愛班導師上課囉！孫中興的毀三觀愛情學', 'DBA 訓練營 -  SQL Server 資料庫管理入門', '擺脫職涯卡關！聚焦你的職場絕對優勢', 'Blender 初學全攻略 - 純手作療癒音樂盒！', '職場考場都必用！全方位的情境寫作術！', '美食攝影逐光旅行，餐桌上的四季光影', '擁抱山的知識：給登山者的十堂必修課', '靈感不枯竭！30 種方式提升內容創作力', 'SQL的五十道練習：初學者友善的資料庫入門', '買房避雷術 - 預售屋新手攻略', '電商人妻 IG 增粉攻略！三大領域經營術', '風格實踐學：從內在到穿搭形塑獨特品味', '2021 驅動知識生態系論壇｜Hahow 好學校', '圖解表達力：用心智圖思維，簡化複雜問題', 'Data Studio 視覺化報表｜數據分析輕鬆上手', '紫微斗數 14 種命格原型，解讀你的生命地圖', '一小時能聽又能說！超實用泰語會話入門 ', '提問式職場領導力－專業提問者從你開始', '米薩小姐塔羅課，推開生命靈性之門', '漢克，我想跟你學畫畫：油性粉彩小筆記', '積木國王大黑白的積木教室｜創作台灣街景', '職場英文大補帖｜從社交心法到溝通金句', 'Java 工程師必備！Spring Boot 零基礎入門', '紙上御花園－初階水墨花卉探幽', '用戶x商業x數據 | UX‧三刀流產品體驗設計', '自學英語口說：提升英文流暢度的5大步驟', '拍一次就搞定！FB IG YT 通用的行銷影片', '說說立體刺繡花葉動物，交織裡的平衡韻律', '邏輯表達力-周震宇的口語邏輯優化課', '五星級法式經典甜點在家做', '掌握鉤針編織邏輯：五種針法自造生活小物', 'Python 推薦系統入門: 打造令人上癮的產品', '堯中人像攝影創作：掌握光影發掘人像質感', '日新麥克筆魔法：十支筆創造新視界－慕夏篇', '志祺的架構性思考：從資訊整理到觀點表達', ' PS 核心技法 | 調色技法完全講解篇', '҉唐鳳҉數位溝通社：就這樣把你增幅', '四叉貓網美談資社：美少女反串溝通愛心光波', '楊大正台語詞創社：咱就大力來寫著歌', '雷浩斯價值投資：用質化分析找出價值成長股', '火頭工做麵包：與酵母共舞，設計專屬配方', '職場英文大補帖｜上班族的跨國會議必修課', '【生活裡的花與器】風格美感花藝選搭課', '數位轉型敲門磚，產業必學 AI 思維通識課', '揮別五音不全：威宇老師的音準訓練課', '一課思考學：你需要知道的一切，都在這一課', '這樣做設計思考更有用！UX 有感提案術', '創新先生瘋狂創造力：創造力思維與發想流程', '基礎情境練習課：建立你的英文文法邏輯腦', '藝用解剖學 2 - 凝望透視之眼 360 度全視野攻略', '新手能上手！居家健身，肌群練習一次到位', '婚禮企劃與主持入門課', '黃瑽寧的 10 堂育兒必修課全系列', '毛心潔的哺乳全攻略：觀念篇＋實作篇', '鄧惠文的關係心理學：親子篇', '10 堂課教出孩子的好情緒', '聽海苔熊「談」戀愛：剖析童話，療癒愛情', 'Python 進階課程：觀念、語法、專案、爬蟲', '龍師傅的台菜世界廚房', '萬用馭髮術全攻略 - 女神髮型養成班', '實境遊戲設計：打造好玩又有意義的情境體驗', '產品設計實戰：用Figma打造絕佳UI/UX', '許榮哲的故事課 - 三分鐘說 18 萬個故事', '精通 Bootstrap 4 - 開發超強不解釋', '使用 HTML、CSS 開發一個網站', '使用 jQuery 打造互動性網頁動畫效果', '職場必備的批判思考力：沉思力篇', '職場人必學的商業分析術', '產品數據分析 - 打造網路產品的決策引擎', '做圖啦！設計省攻略：品牌應用新手速成', '我的設計超美感 – C4D 視覺密碼懶人包', '從零開始，ob11/黏土娃娃衣製作教學', '用攝影打造第二人生｜讓熱情全職為你工作', '6五3的書法設計課：跳脫字帖的書寫自由式', '打電動也能賺錢：如何成為遊戲實況主？', '《當我們扯在一起》太陽馬戲團老師的扯鈴課', '代購創業實戰班：14 天開創你的電商副業', 'Photoshop 合成必修 - 電影光影場景合成', 'Podcast 新手攻略課程：0 到 1 必學指南', 'Seagate 講堂 | 動態導演林呈軒教你做履歷', 'Seagate 講堂 | 平面設計師顏伯駿教你做履歷', 'Seagate 講堂 | 影像後製再現影像教你做履歷', '德文輕鬆學，零基礎也學得會的實用會話', '跑者必修！馬拉松完賽全方位跑典', '心智繪圖思考法：繪製你的思維地圖 ', '在家CEO！在家打造量身訂做的個人事業', '王永福教學的技術：翻轉課堂的職業講師祕訣', '職場英文即戰力 :  一步步打造最佳自學途徑', 'IG 風格策展人：創造你的光影烏托邦', '打造動態報表！雲端 Python 爬蟲資料流', '職場溝通管理學：打造團隊好關係與高績效', '深入淺出：專案管理方法-敏捷式開發 Scrum ', '超級業務員的絕學：輕鬆說服任何人的銷售課', '為什麼你的影音內容，OTT 平台不買單？', '遠端工作必備：跨國英語 con-call 實戰力', '產品 x 創新：從需求洞察到產品策略', '用影像收藏人生：學會拍片，認識自己', '大小數據如何協助影視創作', '出門好狗兒：抓住狗狗注意力，提升信任關係', '韓式和菓子自己做：一次學會 12 種造型', '微甜的仲夏氣息：雪莉療癒水彩時光', '從零到專業-成為影片製作師的教學手冊', '不小心就學會！用 UI 設計方法製作網站', '個人品牌變現力：開始打造你的多元收入！', '喬老師模型課：出神入化模型技法｜鋼普拉篇', '職場必備的 Excel 關鍵技法－進階', '用「英文邏輯」溝通說服！職場、生活都適用', '從零開始，Unity3D 射擊遊戲製作真簡單', '手繪珠寶設計入門：完成你的第一件珠寶設計', '職場寫作課：從個人品牌到自媒體', '紙上的美妝師：連禾時尚彩妝畫', '顧客分類大師：Python x RFM 會員經營新觀點', '翻轉文字：給孩子好玩的創意寫作課！', '大人的蠟筆畫：活用油畫知識，寫實生活微光', '機器學習攻略：實戰心法到求職技巧', '法式甜點在地魂製作攻略－日日在家菓實日', '林長揚職場簡報術：一次搞定所有工作簡報！', '概念式時尚插畫｜我的小小時裝週', '羅寶鴻的安定教養課：12 個對話練習與心法', '七日減醣計畫「一週持續執行！」邊吃邊享瘦', '閱讀攝影的眼神 - 啟動你的影像理解力', '手機 App 開發入門：App Inventor 2 實作', '全民防疫通識課：陳建仁副總統來開講', '省錢攝影術：零基礎拍好美食＆商品！', 'Linux 我來教: CentOS/ RHEL 8 新世代雲端', '口譯員浩爾的打獵式聆聽＆資訊處理術', '資料變決策！從零上手 Tableau 大數據視覺化', '互動藝術程式創作入門 (Creative Coding)', '人生管理學：把自己當成公司經營', '薩克斯風 - 13 堂基本功吹出專輯的美聲', '用實際案例學設計-美編的 InDesign 排版課', '動盪時代的資產配置：王伯達人生財務規劃學', '手繪轉電繪，我選 Procreate！', '氣球達人不藏私！宋俊霖的塞球雕塑造型課', '0-2 歲寶寶父母必修課 - 專業治療師開課囉！']\n"
     ]
    }
   ],
   "metadata": {}
  },
  {
   "cell_type": "code",
   "execution_count": null,
   "source": [],
   "outputs": [],
   "metadata": {}
  }
 ],
 "metadata": {
  "kernelspec": {
   "name": "python3",
   "display_name": "Python 3.6.13 64-bit ('base': conda)"
  },
  "language_info": {
   "codemirror_mode": {
    "name": "ipython",
    "version": 3
   },
   "file_extension": ".py",
   "mimetype": "text/x-python",
   "name": "python",
   "nbconvert_exporter": "python",
   "pygments_lexer": "ipython3",
   "version": "3.6.13"
  },
  "interpreter": {
   "hash": "5f292722d6d50c2426abae6fd15a85386b49c5393ec98f1c35f79e4e4dd7448b"
  }
 },
 "nbformat": 4,
 "nbformat_minor": 2
}