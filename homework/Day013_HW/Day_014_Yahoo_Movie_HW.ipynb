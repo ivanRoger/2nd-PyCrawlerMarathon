{
 "cells": [
  {
   "cell_type": "markdown",
   "source": [
    "# YAHOO電影爬蟲練習\n",
    "## 練習爬取電影放映資訊。必須逐步獲取電影的代號、放映地區、放映日期後，再送出查詢給伺服器。"
   ],
   "metadata": {}
  },
  {
   "cell_type": "code",
   "execution_count": 21,
   "source": [
    "import requests\r\n",
    "import re\r\n",
    "from bs4 import BeautifulSoup"
   ],
   "outputs": [],
   "metadata": {}
  },
  {
   "cell_type": "markdown",
   "source": [
    "### 先搜尋全部的電影代號(ID)資訊"
   ],
   "metadata": {}
  },
  {
   "cell_type": "code",
   "execution_count": 22,
   "source": [
    "# 查看目前上映那些電影，並擷取出其ID資訊\r\n",
    "url = 'https://movies.yahoo.com.tw/'\r\n",
    "resp = requests.get(url)\r\n",
    "resp.encoding = 'utf-8'\r\n",
    "\r\n",
    "soup = BeautifulSoup(resp.text, 'lxml')\r\n",
    "html = soup.find(\"select\", attrs={'name':'movie_id'})\r\n",
    "movie_item = html.find_all(\"option\", attrs={'data-name':re.compile('.*')})\r\n",
    "\r\n",
    "for p in movie_item:\r\n",
    "    print(\"Movie: %s, ID: %s\" % (p[\"data-name\"], p[\"value\"]))"
   ],
   "outputs": [
    {
     "output_type": "stream",
     "name": "stdout",
     "text": [
      "Movie: 花束般的戀愛, ID: 11391\n",
      "Movie: 貝加爾湖隱居札記：在這喧囂的世界，一個人到西伯利亞森林住半年, ID: 11375\n",
      "Movie: 怪物奇兵 全新世代, ID: 11342\n",
      "Movie: 韓國校園恐怖怪談：點名沒到的學生, ID: 11426\n",
      "Movie: 烘焙家之味, ID: 11381\n",
      "Movie: 燕尾蝶：數位經典版, ID: 11332\n",
      "Movie: 轉彎之後, ID: 11329\n",
      "Movie: 野蠻糾碴隊, ID: 11300\n",
      "Movie: 失控的審判, ID: 11201\n",
      "Movie: 黑寡婦, ID: 10397\n",
      "Movie: 迴憶, ID: 11345\n",
      "Movie: 玩命鈔劫, ID: 11340\n",
      "Movie: 死亡漩渦：奪魂鋸新遊戲, ID: 11311\n",
      "Movie: 名偵探柯南：緋色的彈丸, ID: 11206\n",
      "Movie: 催魂頻率, ID: 11341\n",
      "Movie: 鬼護士, ID: 11370\n",
      "Movie: 惡水真相, ID: 11369\n",
      "Movie: 阿依達的救援行動, ID: 11365\n",
      "Movie: 如果雨之後, ID: 11355\n",
      "Movie: 操控, ID: 11352\n",
      "Movie: 那些要我死的人, ID: 11347\n",
      "Movie: 父親, ID: 11314\n",
      "Movie: 夢想之地, ID: 11306\n",
      "Movie: 聽見歌 再唱, ID: 11232\n",
      "Movie: 私刑救援, ID: 11263\n",
      "Movie: 警慌失措, ID: 11295\n",
      "Movie: 青春電幻物語：數位修復版, ID: 11283\n",
      "Movie: 當男人戀愛時, ID: 11255\n",
      "Movie: 愛情瞎攪禍, ID: 11218\n",
      "Movie: 波麗萊多里鬼屋, ID: 11242\n",
      "Movie: 今天決定我愛你, ID: 11241\n",
      "Movie: 東經北緯, ID: 11222\n",
      "Movie: 噪反, ID: 11169\n",
      "Movie: 複身犯, ID: 11160\n",
      "Movie: 偷天行動, ID: 11187\n",
      "Movie: 我沒有談的那場戀愛, ID: 11159\n",
      "Movie: 湯姆貓與傑利鼠, ID: 11072\n",
      "Movie: 角頭–浪流連, ID: 11162\n",
      "Movie: 通靈駕訓班, ID: 11173\n",
      "Movie: 馬德里金庫盜數90分鐘, ID: 11184\n",
      "Movie: 靈魂急轉彎, ID: 11089\n",
      "Movie: 愛，留在海灘那一天, ID: 8363\n",
      "Movie: 玻璃庭院, ID: 7829\n",
      "Movie: 哈樂黛的愛與死, ID: 11383\n"
     ]
    }
   ],
   "metadata": {}
  },
  {
   "cell_type": "markdown",
   "source": [
    "### 指定你有興趣的電影其ID，然後查詢其放映地區資訊。"
   ],
   "metadata": {}
  },
  {
   "cell_type": "code",
   "execution_count": 23,
   "source": [
    "# 參考前一個步驟中擷取到的ID資訊，並指定ID\r\n",
    "movie_id = 10397"
   ],
   "outputs": [],
   "metadata": {}
  },
  {
   "cell_type": "code",
   "execution_count": 24,
   "source": [
    "url = 'https://movies.yahoo.com.tw/api/v1/areas_by_movie_theater'\r\n",
    "payload = {'movie_id':str(movie_id)}\r\n",
    "\r\n",
    "# 模擬一個header\r\n",
    "headers = {\r\n",
    "    'authority': 'movies.yahoo.com.tw',\r\n",
    "    'method': 'GET',\r\n",
    "    'path': '/api/v1/areas_by_movie_theater?movie_id=' + str(movie_id),\r\n",
    "    'scheme': 'https',\r\n",
    "    'accept': 'application/json, text/javascript, */*; q=0.01',\r\n",
    "    'accept-encoding': 'gzip, deflate, br',\r\n",
    "    'accept-language': 'zh-TW,zh;q=0.9,en-US;q=0.8,en;q=0.7,zh-CN;q=0.6',\r\n",
    "    'cookie': 'rxx=9s3x2fws06.1g16irnc&v=1; _ga=GA1.3.2056742944.1551651301; GUC=AQEBAQFczFpdm0IfmwSB&s=AQAAACoo4N5D&g=XMsVBw; BX=4hkdk1decm57t&b=3&s=mr; _ga=GA1.4.2056742944.1551651301; nexagesuid=82843256dd234e8e91aa73f2062f8218; browsed_movie=eyJpdiI6IlJXWWtiSWJaZlNGK2MxQnhscnVUYWc9PSIsInZhbHVlIjoiMXRhMmVHRXRIeUNjc1RBWDJzdGYwbnlIQURmWGsrcjJSMzhkbkcraDNJVUNIZEZsbzU3amlFcVZ1NzlmazJrTGpoMjVrbHk1YmpoRENXaHZTOUw1TmI2ZTZVWHdOejZQZm16RmVuMWlHTTJLaTZLVFZZVkFOMDlTd1wvSGltcytJIiwibWFjIjoiZWQ2ZjA4MmVjZmZlYjlmNjJmYmY2NGMyMDI0Njc0NWViYjVkOWE2NDg0N2RhODMxZjBjZDhiMmJhZTc2MDZhYiJ9; avi=eyJpdiI6Im1NeWFJRlVRWDR1endEcGRGUGJUbVE9PSIsInZhbHVlIjoickRpU3JuUytmcGl6cjF5OW0rNU9iZz09IiwibWFjIjoiY2VmY2NkNzZmM2NhNjY5YzlkOTcyNjE5OGEyMzU0NWYxOTdmMDRkMDY3OWNmMmZjOTMxYjc5MjI5N2Q5NGE5MiJ9; cmp=t=1559391030&j=0; _gid=GA1.4.779543841.1559391031; XSRF-TOKEN=eyJpdiI6IkhpS2hGcDRQaHlmWUJmaHdSS2Q2bHc9PSIsInZhbHVlIjoiOUVoNFk4OHI1UUZmUWRtYXhza0MyWjJSTlhlZ3RnT0VGeVJPN2JuczVRMGRFdWt2OUlsamVKeHRobFwvcHBGM0dhU3VyMXNGTHlsb2dVM2l0U1hpUGxBPT0iLCJtYWMiOiJkZWU4YzJhNjAxMTY3MzE4Y2ExNWIxYmE1ZjE1YWZlZTlhOTcyYjc4M2RlZGY4ZWNjZDYyMTA2NGYwZGViMzc2In0%3D; m_s=eyJpdiI6InpsZHZ2Tk1BZ0dxaHhETml1RjBnUXc9PSIsInZhbHVlIjoiSkNGeHUranRoXC85bDFiaDhySTJqNkJRcWdjWUxjeVRJSHVYZ1wvd2d4bWJZUTUrSHVDM0lUcW5KNHdETFZ4T1lieU81OUhzc1VoUXhZcWk0UDZSQXVFdz09IiwibWFjIjoiYmJkMDJkMDhlODIzMzcyMWY4M2NmYWNjNGVlOWRjMDIwZmVmNzAyMjE3Yzg3ZGY3ODBkZWEzZTI4MTI5ZWNmOSJ9; _gat=1; nexagesd=10',\r\n",
    "    'dnt': '1',\r\n",
    "    'mv-authorization': '21835b082e15b91a69b3851eec7b31b82ce82afb',\r\n",
    "    'referer': 'https://movies.yahoo.com.tw/',\r\n",
    "    'user-agent': 'Mozilla/5.0 (Windows NT 10.0; Win64; x64) AppleWebKit/537.36 (KHTML, like Gecko) Chrome/74.0.3729.169 Safari/537.36',\r\n",
    "    'x-requested-with': 'XMLHttpRequest',\r\n",
    "}\r\n",
    "    \r\n",
    "resp = requests.get(url, params=payload, headers=headers)\r\n",
    "#print(resp.json())  # 若有需要，列印出json原始碼\r\n",
    "\r\n",
    "# 這裡回傳的格式是JSON格式的資料，要解析JSON擷取資料\r\n",
    "for p in resp.json():\r\n",
    "    print('放映地區: {0}, 代號(area_id): {1}'.format(p['title'], p['area_id']))"
   ],
   "outputs": [],
   "metadata": {}
  },
  {
   "cell_type": "markdown",
   "source": [
    "### 指定你想要觀看的放映地區，查詢有上映電影的場次日期"
   ],
   "metadata": {}
  },
  {
   "cell_type": "code",
   "execution_count": 25,
   "source": [
    "# 指定放映地區\r\n",
    "area_id = 28"
   ],
   "outputs": [],
   "metadata": {}
  },
  {
   "cell_type": "code",
   "execution_count": 26,
   "source": [
    "# 向網站發送請求\r\n",
    "url = 'https://movies.yahoo.com.tw/movietime_result.html'\r\n",
    "payload = {'movie_id':str(movie_id), 'area_id':str(area_id)}\r\n",
    "resp = requests.get(url, params=payload)\r\n",
    "resp.encoding = 'utf-8'\r\n",
    "\r\n",
    "soup = BeautifulSoup(resp.text, 'lxml')\r\n",
    "movie_date = soup.find_all(\"label\", attrs={'for':re.compile(\"date_[\\d]\")})\r\n",
    "\r\n",
    "# 列印播放日期\r\n",
    "for date in movie_date:\r\n",
    "    print(\"%s %s\" % (date.p.string, date.h3.string))"
   ],
   "outputs": [
    {
     "output_type": "stream",
     "name": "stdout",
     "text": [
      "七月 18\n",
      "七月 19\n",
      "七月 20\n",
      "七月 21\n",
      "七月 22\n"
     ]
    }
   ],
   "metadata": {}
  },
  {
   "cell_type": "markdown",
   "source": [
    "### 最後指定觀看的日期，查詢並列印出放映的電影院、放映類型(數位、3D、IMAX 3D...)、放映時間等資訊。"
   ],
   "metadata": {}
  },
  {
   "cell_type": "code",
   "execution_count": 27,
   "source": [
    "# 選定要觀看的日期\r\n",
    "date = \"2021-07-21\""
   ],
   "outputs": [],
   "metadata": {}
  },
  {
   "cell_type": "code",
   "execution_count": 28,
   "source": [
    "# 向網站發送請求，獲取上映的電影院及時間資訊\r\n",
    "url = \"https://movies.yahoo.com.tw/ajax/pc/get_schedule_by_movie\"\r\n",
    "payload = {'movie_id':str(movie_id),\r\n",
    "           'date':date,\r\n",
    "           'area_id':str(area_id),\r\n",
    "           'theater_id':'',\r\n",
    "           'datetime':'',\r\n",
    "           'movie_type_id':''}\r\n",
    "\r\n",
    "resp = requests.get(url, params=payload)\r\n",
    "#print(resp.json()['view'])  # 若有需要，列印出json原始碼\r\n",
    "\r\n",
    "soup = BeautifulSoup(resp.json()['view'], 'lxml')\r\n",
    "html = soup.find_all(\"ul\", attrs={'data-theater_name':re.compile(\".*\")})"
   ],
   "outputs": [],
   "metadata": {}
  },
  {
   "cell_type": "code",
   "execution_count": 29,
   "source": [
    "'''\r\n",
    "\r\n",
    "  試著從上一步驟回傳的電影院資料中，擷取電影院名稱、影片放映類型以及時間表\r\n",
    "  \r\n",
    "  Your code here.\r\n",
    "\r\n",
    "\r\n",
    "'''\r\n",
    "# 列印上映電影院以及時間\r\n",
    "for movie_theater in html:\r\n",
    "    print(\"----------------------------------------------------------------------\")\r\n",
    "    \r\n",
    "    theater_name = movie_theater.find(\"li\", attrs={'class':'adds'})\r\n",
    "    print(\"電影院: \", theater_name.a.string)\r\n",
    "\r\n",
    "    project_type = movie_theater.find_all(\"li\", attrs={'class':'taps'})  # 定位放映類型\r\n",
    "        \r\n",
    "    time_table = movie_theater.find_all(\"li\", attrs={'class':'time _c'})  # 定位時間表\r\n",
    "        \r\n",
    "    for i in range(len(project_type)):\r\n",
    "        print(\"放映類型: \", project_type[i].span.get_text())  # 印出電影類型\r\n",
    "        \r\n",
    "        for p4 in time_table[i].find_all(\"input\", attrs={'name':'schedule_list'}):\r\n",
    "            print(\"%s\" % (p4[\"value\"]))  # 印出放映時間\r\n"
   ],
   "outputs": [],
   "metadata": {}
  },
  {
   "cell_type": "code",
   "execution_count": null,
   "source": [],
   "outputs": [],
   "metadata": {}
  }
 ],
 "metadata": {
  "kernelspec": {
   "display_name": "Python 3",
   "language": "python",
   "name": "python3"
  },
  "language_info": {
   "codemirror_mode": {
    "name": "ipython",
    "version": 3
   },
   "file_extension": ".py",
   "mimetype": "text/x-python",
   "name": "python",
   "nbconvert_exporter": "python",
   "pygments_lexer": "ipython3",
   "version": "3.6.4"
  }
 },
 "nbformat": 4,
 "nbformat_minor": 2
}