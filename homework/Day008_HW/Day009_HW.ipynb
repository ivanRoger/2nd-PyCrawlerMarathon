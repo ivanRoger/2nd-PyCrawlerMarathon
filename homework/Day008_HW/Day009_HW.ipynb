{
 "cells": [
  {
   "cell_type": "markdown",
   "source": [
    "# 作業\n",
    "\n",
    "以正確的副檔名下載網頁中的圖片\n",
    "範例網頁:https://www.ptt.cc/bbs/Beauty/M.1556291059.A.75A.html\n",
    "\n",
    "Note：因為 PTT 會詢問「是否滿 18 歲」，這邊可以用 cookies 繞過\n",
    "\n",
    "`requests.get(URL, cookies={'over18': '1'}`\n"
   ],
   "metadata": {}
  },
  {
   "cell_type": "code",
   "execution_count": 1,
   "source": [
    "import requests\r\n",
    "import os\r\n",
    "\r\n",
    "from bs4 import BeautifulSoup\r\n",
    "from PIL import Image"
   ],
   "outputs": [],
   "metadata": {}
  },
  {
   "cell_type": "code",
   "execution_count": 2,
   "source": [
    "url = 'https://www.ptt.cc/bbs/Beauty/M.1556291059.A.75A.html'\r\n",
    "resp = requests.get(url, cookies={'over18': '1'})\r\n",
    "soup = BeautifulSoup(resp.text)"
   ],
   "outputs": [],
   "metadata": {}
  },
  {
   "cell_type": "code",
   "execution_count": 5,
   "source": [
    "# 決定要儲存的資料夾\r\n",
    "output_dir = 'D:\\\\GitHub\\\\2nd-PyCrawlerMarathon\\\\data'\r\n",
    "\r\n",
    "# 假如資料夾不存在就新增一個資料夾\r\n",
    "if not os.path.exists(output_dir):\r\n",
    "    os.makedirs(output_dir)\r\n",
    "\r\n",
    "# 定位所有圖片的 tag\r\n",
    "image_tags = soup.find(id='main-content').findChildren('a', recursive=False)\r\n",
    "for img_tag in image_tags:\r\n",
    "    # 取得所有圖片在第三方服務的 id\r\n",
    "    if 'imgur' not in img_tag['href']:\r\n",
    "        continue\r\n",
    "    img_id = img_tag['href'].split('/')[-1]\r\n",
    "\r\n",
    "    # 組合圖片而非網站的網址\r\n",
    "    img_url = 'https://i.imgur.com/{}.jpg'.format(img_id)\r\n",
    "    # 對圖片送出請求\r\n",
    "    with requests.get(img_url, stream=True) as r:\r\n",
    "        r.raise_for_status()\r\n",
    "        # 檢查圖片副檔名\r\n",
    "        img = Image.open(r.raw)\r\n",
    "        img_savename = '{outdir}/{img_id}.{img_ext}'.format(\r\n",
    "            outdir=output_dir, img_id=img_id, img_ext=img.format.lower())\r\n",
    "        img.save(img_savename)\r\n",
    "        print('Save image {}'.format(img_savename))"
   ],
   "outputs": [
    {
     "output_type": "stream",
     "name": "stdout",
     "text": [
      "Save image D:\\GitHub\\2nd-PyCrawlerMarathon\\data/Cgb5oo1.jpeg\n",
      "Save image D:\\GitHub\\2nd-PyCrawlerMarathon\\data/MgjHY4f.jpeg\n",
      "Save image D:\\GitHub\\2nd-PyCrawlerMarathon\\data/yeoRtAs.jpeg\n",
      "Save image D:\\GitHub\\2nd-PyCrawlerMarathon\\data/wsauNEW.jpeg\n",
      "Save image D:\\GitHub\\2nd-PyCrawlerMarathon\\data/IjiETcs.jpeg\n"
     ]
    }
   ],
   "metadata": {}
  }
 ],
 "metadata": {
  "kernelspec": {
   "display_name": "Python 3",
   "language": "python",
   "name": "python3"
  },
  "language_info": {
   "codemirror_mode": {
    "name": "ipython",
    "version": 3
   },
   "file_extension": ".py",
   "mimetype": "text/x-python",
   "name": "python",
   "nbconvert_exporter": "python",
   "pygments_lexer": "ipython3",
   "version": "3.6.9"
  }
 },
 "nbformat": 4,
 "nbformat_minor": 2
}